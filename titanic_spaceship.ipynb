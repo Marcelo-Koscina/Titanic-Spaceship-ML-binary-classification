{
 "cells": [
  {
   "cell_type": "markdown",
   "id": "249aa5f4",
   "metadata": {},
   "source": [
    "                         TITANIC SPACESHIP BINARY CLASSIFICATION\n",
    "   "
   ]
  },
  {
   "cell_type": "markdown",
   "id": "e067d2c6",
   "metadata": {},
   "source": [
    "# Libraries"
   ]
  },
  {
   "cell_type": "code",
   "execution_count": 1,
   "id": "e9edd485",
   "metadata": {
    "ExecuteTime": {
     "end_time": "2022-09-11T22:23:55.248644Z",
     "start_time": "2022-09-11T22:23:51.230889Z"
    }
   },
   "outputs": [],
   "source": [
    "#import libraries\n",
    "import pandas as pd\n",
    "import seaborn as sns\n",
    "import matplotlib.pyplot as plt\n",
    "from matplotlib.pyplot import subplots\n",
    "from sklearn.preprocessing import OrdinalEncoder\n",
    "from sklearn.preprocessing import LabelEncoder\n",
    "from sklearn.impute import SimpleImputer\n",
    "from sklearn.linear_model import LogisticRegression\n",
    "from sklearn.model_selection import train_test_split\n",
    "from sklearn.preprocessing import StandardScaler\n",
    "from sklearn.experimental import enable_iterative_imputer\n",
    "from sklearn.impute import IterativeImputer\n",
    "from sklearn.ensemble import GradientBoostingClassifier\n",
    "from sklearn.metrics import confusion_matrix, plot_confusion_matrix\n",
    "from sklearn.metrics import accuracy_score,plot_roc_curve\n",
    "from pycaret.classification import *\n",
    "from catboost import CatBoostClassifier\n",
    "from sklearn.feature_selection import mutual_info_classif\n",
    "import xgboost\n",
    "from xgboost import XGBClassifier\n",
    "import re"
   ]
  },
  {
   "cell_type": "markdown",
   "id": "e29f1a77",
   "metadata": {},
   "source": [
    "# Extract and Analysis "
   ]
  },
  {
   "cell_type": "code",
   "execution_count": 2,
   "id": "a9c40625",
   "metadata": {
    "ExecuteTime": {
     "end_time": "2022-09-11T22:23:55.316175Z",
     "start_time": "2022-09-11T22:23:55.255098Z"
    },
    "scrolled": false
   },
   "outputs": [],
   "source": [
    "# Extract both Titanic train and test datase. In this case from my local directory\n",
    "df = pd.read_csv('data/titanic.train.csv')\n",
    "train_labels = df.pop('Transported')\n"
   ]
  },
  {
   "cell_type": "code",
   "execution_count": 3,
   "id": "338b16c6",
   "metadata": {
    "ExecuteTime": {
     "end_time": "2022-09-11T22:23:55.354086Z",
     "start_time": "2022-09-11T22:23:55.319433Z"
    }
   },
   "outputs": [],
   "source": [
    "df_test = pd.read_csv('data/titanic.test.csv')"
   ]
  },
  {
   "cell_type": "code",
   "execution_count": 4,
   "id": "9a50b969",
   "metadata": {
    "ExecuteTime": {
     "end_time": "2022-09-11T22:23:55.392789Z",
     "start_time": "2022-09-11T22:23:55.360084Z"
    },
    "scrolled": true
   },
   "outputs": [
    {
     "data": {
      "text/html": [
       "<div>\n",
       "<style scoped>\n",
       "    .dataframe tbody tr th:only-of-type {\n",
       "        vertical-align: middle;\n",
       "    }\n",
       "\n",
       "    .dataframe tbody tr th {\n",
       "        vertical-align: top;\n",
       "    }\n",
       "\n",
       "    .dataframe thead th {\n",
       "        text-align: right;\n",
       "    }\n",
       "</style>\n",
       "<table border=\"1\" class=\"dataframe\">\n",
       "  <thead>\n",
       "    <tr style=\"text-align: right;\">\n",
       "      <th></th>\n",
       "      <th>PassengerId</th>\n",
       "      <th>HomePlanet</th>\n",
       "      <th>CryoSleep</th>\n",
       "      <th>Cabin</th>\n",
       "      <th>Destination</th>\n",
       "      <th>Age</th>\n",
       "      <th>VIP</th>\n",
       "      <th>RoomService</th>\n",
       "      <th>FoodCourt</th>\n",
       "      <th>ShoppingMall</th>\n",
       "      <th>Spa</th>\n",
       "      <th>VRDeck</th>\n",
       "      <th>Name</th>\n",
       "    </tr>\n",
       "  </thead>\n",
       "  <tbody>\n",
       "    <tr>\n",
       "      <th>0</th>\n",
       "      <td>0001_01</td>\n",
       "      <td>Europa</td>\n",
       "      <td>False</td>\n",
       "      <td>B/0/P</td>\n",
       "      <td>TRAPPIST-1e</td>\n",
       "      <td>39.0</td>\n",
       "      <td>False</td>\n",
       "      <td>0.0</td>\n",
       "      <td>0.0</td>\n",
       "      <td>0.0</td>\n",
       "      <td>0.0</td>\n",
       "      <td>0.0</td>\n",
       "      <td>Maham Ofracculy</td>\n",
       "    </tr>\n",
       "    <tr>\n",
       "      <th>1</th>\n",
       "      <td>0002_01</td>\n",
       "      <td>Earth</td>\n",
       "      <td>False</td>\n",
       "      <td>F/0/S</td>\n",
       "      <td>TRAPPIST-1e</td>\n",
       "      <td>24.0</td>\n",
       "      <td>False</td>\n",
       "      <td>109.0</td>\n",
       "      <td>9.0</td>\n",
       "      <td>25.0</td>\n",
       "      <td>549.0</td>\n",
       "      <td>44.0</td>\n",
       "      <td>Juanna Vines</td>\n",
       "    </tr>\n",
       "    <tr>\n",
       "      <th>2</th>\n",
       "      <td>0003_01</td>\n",
       "      <td>Europa</td>\n",
       "      <td>False</td>\n",
       "      <td>A/0/S</td>\n",
       "      <td>TRAPPIST-1e</td>\n",
       "      <td>58.0</td>\n",
       "      <td>True</td>\n",
       "      <td>43.0</td>\n",
       "      <td>3576.0</td>\n",
       "      <td>0.0</td>\n",
       "      <td>6715.0</td>\n",
       "      <td>49.0</td>\n",
       "      <td>Altark Susent</td>\n",
       "    </tr>\n",
       "  </tbody>\n",
       "</table>\n",
       "</div>"
      ],
      "text/plain": [
       "  PassengerId HomePlanet CryoSleep  Cabin  Destination   Age    VIP  \\\n",
       "0     0001_01     Europa     False  B/0/P  TRAPPIST-1e  39.0  False   \n",
       "1     0002_01      Earth     False  F/0/S  TRAPPIST-1e  24.0  False   \n",
       "2     0003_01     Europa     False  A/0/S  TRAPPIST-1e  58.0   True   \n",
       "\n",
       "   RoomService  FoodCourt  ShoppingMall     Spa  VRDeck             Name  \n",
       "0          0.0        0.0           0.0     0.0     0.0  Maham Ofracculy  \n",
       "1        109.0        9.0          25.0   549.0    44.0     Juanna Vines  \n",
       "2         43.0     3576.0           0.0  6715.0    49.0    Altark Susent  "
      ]
     },
     "execution_count": 4,
     "metadata": {},
     "output_type": "execute_result"
    }
   ],
   "source": [
    "#check train dataset\n",
    "df.head(3)"
   ]
  },
  {
   "cell_type": "code",
   "execution_count": 5,
   "id": "8106a486",
   "metadata": {
    "ExecuteTime": {
     "end_time": "2022-09-11T22:23:55.425980Z",
     "start_time": "2022-09-11T22:23:55.400921Z"
    },
    "scrolled": true
   },
   "outputs": [
    {
     "data": {
      "text/html": [
       "<div>\n",
       "<style scoped>\n",
       "    .dataframe tbody tr th:only-of-type {\n",
       "        vertical-align: middle;\n",
       "    }\n",
       "\n",
       "    .dataframe tbody tr th {\n",
       "        vertical-align: top;\n",
       "    }\n",
       "\n",
       "    .dataframe thead th {\n",
       "        text-align: right;\n",
       "    }\n",
       "</style>\n",
       "<table border=\"1\" class=\"dataframe\">\n",
       "  <thead>\n",
       "    <tr style=\"text-align: right;\">\n",
       "      <th></th>\n",
       "      <th>PassengerId</th>\n",
       "      <th>HomePlanet</th>\n",
       "      <th>CryoSleep</th>\n",
       "      <th>Cabin</th>\n",
       "      <th>Destination</th>\n",
       "      <th>Age</th>\n",
       "      <th>VIP</th>\n",
       "      <th>RoomService</th>\n",
       "      <th>FoodCourt</th>\n",
       "      <th>ShoppingMall</th>\n",
       "      <th>Spa</th>\n",
       "      <th>VRDeck</th>\n",
       "      <th>Name</th>\n",
       "    </tr>\n",
       "  </thead>\n",
       "  <tbody>\n",
       "    <tr>\n",
       "      <th>0</th>\n",
       "      <td>0013_01</td>\n",
       "      <td>Earth</td>\n",
       "      <td>True</td>\n",
       "      <td>G/3/S</td>\n",
       "      <td>TRAPPIST-1e</td>\n",
       "      <td>27.0</td>\n",
       "      <td>False</td>\n",
       "      <td>0.0</td>\n",
       "      <td>0.0</td>\n",
       "      <td>0.0</td>\n",
       "      <td>0.0</td>\n",
       "      <td>0.0</td>\n",
       "      <td>Nelly Carsoning</td>\n",
       "    </tr>\n",
       "    <tr>\n",
       "      <th>1</th>\n",
       "      <td>0018_01</td>\n",
       "      <td>Earth</td>\n",
       "      <td>False</td>\n",
       "      <td>F/4/S</td>\n",
       "      <td>TRAPPIST-1e</td>\n",
       "      <td>19.0</td>\n",
       "      <td>False</td>\n",
       "      <td>0.0</td>\n",
       "      <td>9.0</td>\n",
       "      <td>0.0</td>\n",
       "      <td>2823.0</td>\n",
       "      <td>0.0</td>\n",
       "      <td>Lerome Peckers</td>\n",
       "    </tr>\n",
       "    <tr>\n",
       "      <th>2</th>\n",
       "      <td>0019_01</td>\n",
       "      <td>Europa</td>\n",
       "      <td>True</td>\n",
       "      <td>C/0/S</td>\n",
       "      <td>55 Cancri e</td>\n",
       "      <td>31.0</td>\n",
       "      <td>False</td>\n",
       "      <td>0.0</td>\n",
       "      <td>0.0</td>\n",
       "      <td>0.0</td>\n",
       "      <td>0.0</td>\n",
       "      <td>0.0</td>\n",
       "      <td>Sabih Unhearfus</td>\n",
       "    </tr>\n",
       "  </tbody>\n",
       "</table>\n",
       "</div>"
      ],
      "text/plain": [
       "  PassengerId HomePlanet CryoSleep  Cabin  Destination   Age    VIP  \\\n",
       "0     0013_01      Earth      True  G/3/S  TRAPPIST-1e  27.0  False   \n",
       "1     0018_01      Earth     False  F/4/S  TRAPPIST-1e  19.0  False   \n",
       "2     0019_01     Europa      True  C/0/S  55 Cancri e  31.0  False   \n",
       "\n",
       "   RoomService  FoodCourt  ShoppingMall     Spa  VRDeck             Name  \n",
       "0          0.0        0.0           0.0     0.0     0.0  Nelly Carsoning  \n",
       "1          0.0        9.0           0.0  2823.0     0.0   Lerome Peckers  \n",
       "2          0.0        0.0           0.0     0.0     0.0  Sabih Unhearfus  "
      ]
     },
     "execution_count": 5,
     "metadata": {},
     "output_type": "execute_result"
    }
   ],
   "source": [
    "#check test dataset\n",
    "df_test.head(3)"
   ]
  },
  {
   "cell_type": "code",
   "execution_count": 6,
   "id": "2bdfd98a",
   "metadata": {
    "ExecuteTime": {
     "end_time": "2022-09-11T22:23:55.460980Z",
     "start_time": "2022-09-11T22:23:55.430064Z"
    },
    "scrolled": true
   },
   "outputs": [
    {
     "name": "stdout",
     "output_type": "stream",
     "text": [
      "<class 'pandas.core.frame.DataFrame'>\n",
      "RangeIndex: 8693 entries, 0 to 8692\n",
      "Data columns (total 13 columns):\n",
      " #   Column        Non-Null Count  Dtype  \n",
      "---  ------        --------------  -----  \n",
      " 0   PassengerId   8693 non-null   object \n",
      " 1   HomePlanet    8492 non-null   object \n",
      " 2   CryoSleep     8476 non-null   object \n",
      " 3   Cabin         8494 non-null   object \n",
      " 4   Destination   8511 non-null   object \n",
      " 5   Age           8514 non-null   float64\n",
      " 6   VIP           8490 non-null   object \n",
      " 7   RoomService   8512 non-null   float64\n",
      " 8   FoodCourt     8510 non-null   float64\n",
      " 9   ShoppingMall  8485 non-null   float64\n",
      " 10  Spa           8510 non-null   float64\n",
      " 11  VRDeck        8505 non-null   float64\n",
      " 12  Name          8493 non-null   object \n",
      "dtypes: float64(6), object(7)\n",
      "memory usage: 883.0+ KB\n"
     ]
    }
   ],
   "source": [
    "#check train columns, dtypes and non-nulls\n",
    "df.info()"
   ]
  },
  {
   "cell_type": "code",
   "execution_count": 7,
   "id": "846d60a8",
   "metadata": {
    "ExecuteTime": {
     "end_time": "2022-09-11T22:23:55.488153Z",
     "start_time": "2022-09-11T22:23:55.464841Z"
    },
    "scrolled": false
   },
   "outputs": [
    {
     "name": "stdout",
     "output_type": "stream",
     "text": [
      "<class 'pandas.core.frame.DataFrame'>\n",
      "RangeIndex: 4277 entries, 0 to 4276\n",
      "Data columns (total 13 columns):\n",
      " #   Column        Non-Null Count  Dtype  \n",
      "---  ------        --------------  -----  \n",
      " 0   PassengerId   4277 non-null   object \n",
      " 1   HomePlanet    4190 non-null   object \n",
      " 2   CryoSleep     4184 non-null   object \n",
      " 3   Cabin         4177 non-null   object \n",
      " 4   Destination   4185 non-null   object \n",
      " 5   Age           4186 non-null   float64\n",
      " 6   VIP           4184 non-null   object \n",
      " 7   RoomService   4195 non-null   float64\n",
      " 8   FoodCourt     4171 non-null   float64\n",
      " 9   ShoppingMall  4179 non-null   float64\n",
      " 10  Spa           4176 non-null   float64\n",
      " 11  VRDeck        4197 non-null   float64\n",
      " 12  Name          4183 non-null   object \n",
      "dtypes: float64(6), object(7)\n",
      "memory usage: 434.5+ KB\n"
     ]
    }
   ],
   "source": [
    "#check test columns, dtypes and non-nulls\n",
    "df_test.info()"
   ]
  },
  {
   "cell_type": "markdown",
   "id": "ddc798d3",
   "metadata": {},
   "source": [
    "# Data Processing"
   ]
  },
  {
   "cell_type": "markdown",
   "id": "7ab4e15c",
   "metadata": {},
   "source": [
    "Let's convert all categorical columns to numerical..."
   ]
  },
  {
   "cell_type": "code",
   "execution_count": 8,
   "id": "e031a9a9",
   "metadata": {
    "ExecuteTime": {
     "end_time": "2022-09-11T22:23:55.509252Z",
     "start_time": "2022-09-11T22:23:55.491891Z"
    }
   },
   "outputs": [],
   "source": [
    "#deleting cabin and name categorical columns since their convertion don't contribute to analysis\n",
    "df.drop(['Cabin','Name'],axis=1,inplace=True)\n",
    "df_test.drop(['Cabin','Name'],axis=1,inplace=True)"
   ]
  },
  {
   "cell_type": "code",
   "execution_count": 9,
   "id": "1e49e192",
   "metadata": {
    "ExecuteTime": {
     "end_time": "2022-09-11T22:23:55.525381Z",
     "start_time": "2022-09-11T22:23:55.514306Z"
    }
   },
   "outputs": [],
   "source": [
    "#Select categorical cols to transform\n",
    "cat_cols = df.select_dtypes(['bool_','object_']).columns\n",
    "cat_cols1 = df_test.select_dtypes(['bool_','object_']).columns"
   ]
  },
  {
   "cell_type": "code",
   "execution_count": 10,
   "id": "0ad4e10c",
   "metadata": {
    "ExecuteTime": {
     "end_time": "2022-09-11T22:23:55.546625Z",
     "start_time": "2022-09-11T22:23:55.539509Z"
    },
    "scrolled": true
   },
   "outputs": [],
   "source": [
    "#deleting passenger id column\n",
    "cat_cols= cat_cols.drop('PassengerId')\n",
    "cat_cols1= cat_cols1.drop('PassengerId')"
   ]
  },
  {
   "cell_type": "code",
   "execution_count": 11,
   "id": "bcb7e6a7",
   "metadata": {
    "ExecuteTime": {
     "end_time": "2022-09-11T22:23:55.561632Z",
     "start_time": "2022-09-11T22:23:55.553599Z"
    }
   },
   "outputs": [],
   "source": [
    "#separate numerical columns on train\n",
    "num_cols = df.select_dtypes(exclude=['bool','object']).columns"
   ]
  },
  {
   "cell_type": "code",
   "execution_count": 12,
   "id": "fd2efb72",
   "metadata": {
    "ExecuteTime": {
     "end_time": "2022-09-11T22:23:55.574259Z",
     "start_time": "2022-09-11T22:23:55.566508Z"
    }
   },
   "outputs": [],
   "source": [
    "#separate numerical columns on test\n",
    "num_cols1 = df_test.select_dtypes(exclude=['bool','object']).columns"
   ]
  },
  {
   "cell_type": "code",
   "execution_count": 13,
   "id": "ddcb9127",
   "metadata": {
    "ExecuteTime": {
     "end_time": "2022-09-11T22:23:55.611116Z",
     "start_time": "2022-09-11T22:23:55.578749Z"
    }
   },
   "outputs": [],
   "source": [
    "#Trasnform categorical to numerical cols on train\n",
    "OE = OrdinalEncoder()\n",
    "df[cat_cols] = OE.fit_transform(df[cat_cols])"
   ]
  },
  {
   "cell_type": "code",
   "execution_count": 14,
   "id": "08e0a25f",
   "metadata": {
    "ExecuteTime": {
     "end_time": "2022-09-11T22:23:55.635495Z",
     "start_time": "2022-09-11T22:23:55.617500Z"
    }
   },
   "outputs": [],
   "source": [
    "#Trasnform categorical to numerical cols on test\n",
    "OE = OrdinalEncoder()\n",
    "df_test[cat_cols1] = OE.fit_transform(df_test[cat_cols1])"
   ]
  },
  {
   "cell_type": "code",
   "execution_count": 15,
   "id": "20d621f3",
   "metadata": {
    "ExecuteTime": {
     "end_time": "2022-09-11T22:23:55.759196Z",
     "start_time": "2022-09-11T22:23:55.637553Z"
    }
   },
   "outputs": [],
   "source": [
    "#dealing with nulls sat numerical columns using experimental iterative imputer on train\n",
    "iterative_imputer = IterativeImputer()\n",
    "df[num_cols] = pd.DataFrame(iterative_imputer.fit_transform(df[num_cols]), columns= num_cols)"
   ]
  },
  {
   "cell_type": "code",
   "execution_count": 16,
   "id": "b86e94a2",
   "metadata": {
    "ExecuteTime": {
     "end_time": "2022-09-11T22:23:55.887488Z",
     "start_time": "2022-09-11T22:23:55.762233Z"
    }
   },
   "outputs": [],
   "source": [
    "#dealing with nulls at numerical columns using experimental iterative imputer on test\n",
    "iterative_imputer = IterativeImputer()\n",
    "df_test[num_cols1] = pd.DataFrame(iterative_imputer.fit_transform(df_test[num_cols1]), columns= num_cols1)"
   ]
  },
  {
   "cell_type": "code",
   "execution_count": 17,
   "id": "1149a16e",
   "metadata": {
    "ExecuteTime": {
     "end_time": "2022-09-11T22:23:55.922040Z",
     "start_time": "2022-09-11T22:23:55.891303Z"
    }
   },
   "outputs": [],
   "source": [
    "#dealing with nulls at categorical columns using simple imputer on train applying most frequent strategy\n",
    "impute=SimpleImputer(strategy='most_frequent')\n",
    "df[cat_cols]=pd.DataFrame(impute.fit_transform(df[cat_cols]),columns=cat_cols)"
   ]
  },
  {
   "cell_type": "code",
   "execution_count": 18,
   "id": "edff3581",
   "metadata": {
    "ExecuteTime": {
     "end_time": "2022-09-11T22:23:55.953259Z",
     "start_time": "2022-09-11T22:23:55.925190Z"
    }
   },
   "outputs": [],
   "source": [
    "#dealing with nulls at categorical columns using simple imputer on test applying most frequent strategy\n",
    "impute=SimpleImputer(strategy='most_frequent')\n",
    "df_test[cat_cols1]=pd.DataFrame(impute.fit_transform(df_test[cat_cols1]),columns=cat_cols1)"
   ]
  },
  {
   "cell_type": "code",
   "execution_count": 19,
   "id": "1dca824e",
   "metadata": {
    "ExecuteTime": {
     "end_time": "2022-09-11T22:23:55.974434Z",
     "start_time": "2022-09-11T22:23:55.956888Z"
    }
   },
   "outputs": [],
   "source": [
    "#separating passengerId train in groups, explained in documentation\n",
    "df['Group'] = df.PassengerId.apply(lambda x: str(x)[:4]).astype(int)"
   ]
  },
  {
   "cell_type": "code",
   "execution_count": 20,
   "id": "b688c80a",
   "metadata": {
    "ExecuteTime": {
     "end_time": "2022-09-11T22:23:55.992103Z",
     "start_time": "2022-09-11T22:23:55.978500Z"
    }
   },
   "outputs": [],
   "source": [
    "#separating passengerId test in groups, explained in documentation\n",
    "df_test['Group'] = df_test.PassengerId.apply(lambda x: str(x)[:4]).astype(int)"
   ]
  },
  {
   "cell_type": "code",
   "execution_count": 21,
   "id": "3b74d8e4",
   "metadata": {
    "ExecuteTime": {
     "end_time": "2022-09-11T22:23:56.006745Z",
     "start_time": "2022-09-11T22:23:55.996013Z"
    }
   },
   "outputs": [],
   "source": [
    "#deleting PassengerId on train\n",
    "df = df.drop(columns=['PassengerId'])"
   ]
  },
  {
   "cell_type": "code",
   "execution_count": 39,
   "id": "1160dc8a",
   "metadata": {
    "ExecuteTime": {
     "end_time": "2022-09-11T22:32:09.668137Z",
     "start_time": "2022-09-11T22:32:09.651647Z"
    }
   },
   "outputs": [],
   "source": [
    "#Applying standarization scales at numerical columns on train\n",
    "norm = StandardScaler()\n",
    "num_cols_norm = [col+'_norm' for col in num_cols]\n",
    "df[num_cols_norm] = norm.fit_transform(df[num_cols])\n"
   ]
  },
  {
   "cell_type": "code",
   "execution_count": 40,
   "id": "cdc9bc81",
   "metadata": {
    "ExecuteTime": {
     "end_time": "2022-09-11T22:32:11.164179Z",
     "start_time": "2022-09-11T22:32:11.151995Z"
    }
   },
   "outputs": [],
   "source": [
    "#Applying standarization scales at numerical columns on train\n",
    "num_cols_norm1 = [col+'_norm' for col in num_cols1]\n",
    "df_test[num_cols_norm] = norm.transform(df_test[num_cols])\n"
   ]
  },
  {
   "cell_type": "code",
   "execution_count": 24,
   "id": "7e952364",
   "metadata": {
    "ExecuteTime": {
     "end_time": "2022-09-11T22:23:56.080016Z",
     "start_time": "2022-09-11T22:23:56.059551Z"
    }
   },
   "outputs": [
    {
     "name": "stdout",
     "output_type": "stream",
     "text": [
      "<class 'pandas.core.frame.DataFrame'>\n",
      "RangeIndex: 8693 entries, 0 to 8692\n",
      "Data columns (total 17 columns):\n",
      " #   Column             Non-Null Count  Dtype  \n",
      "---  ------             --------------  -----  \n",
      " 0   HomePlanet         8693 non-null   float64\n",
      " 1   CryoSleep          8693 non-null   float64\n",
      " 2   Destination        8693 non-null   float64\n",
      " 3   Age                8693 non-null   float64\n",
      " 4   VIP                8693 non-null   float64\n",
      " 5   RoomService        8693 non-null   float64\n",
      " 6   FoodCourt          8693 non-null   float64\n",
      " 7   ShoppingMall       8693 non-null   float64\n",
      " 8   Spa                8693 non-null   float64\n",
      " 9   VRDeck             8693 non-null   float64\n",
      " 10  Group              8693 non-null   int64  \n",
      " 11  Age_norm           8693 non-null   float64\n",
      " 12  RoomService_norm   8693 non-null   float64\n",
      " 13  FoodCourt_norm     8693 non-null   float64\n",
      " 14  ShoppingMall_norm  8693 non-null   float64\n",
      " 15  Spa_norm           8693 non-null   float64\n",
      " 16  VRDeck_norm        8693 non-null   float64\n",
      "dtypes: float64(16), int64(1)\n",
      "memory usage: 1.1 MB\n"
     ]
    }
   ],
   "source": [
    "#Checking if all columns are numerical and non nulls on train\n",
    "df.info()"
   ]
  },
  {
   "cell_type": "code",
   "execution_count": 25,
   "id": "a70889d9",
   "metadata": {
    "ExecuteTime": {
     "end_time": "2022-09-11T22:23:56.111680Z",
     "start_time": "2022-09-11T22:23:56.085754Z"
    },
    "scrolled": true
   },
   "outputs": [
    {
     "data": {
      "text/html": [
       "<div>\n",
       "<style scoped>\n",
       "    .dataframe tbody tr th:only-of-type {\n",
       "        vertical-align: middle;\n",
       "    }\n",
       "\n",
       "    .dataframe tbody tr th {\n",
       "        vertical-align: top;\n",
       "    }\n",
       "\n",
       "    .dataframe thead th {\n",
       "        text-align: right;\n",
       "    }\n",
       "</style>\n",
       "<table border=\"1\" class=\"dataframe\">\n",
       "  <thead>\n",
       "    <tr style=\"text-align: right;\">\n",
       "      <th></th>\n",
       "      <th>HomePlanet</th>\n",
       "      <th>CryoSleep</th>\n",
       "      <th>Destination</th>\n",
       "      <th>Age</th>\n",
       "      <th>VIP</th>\n",
       "      <th>RoomService</th>\n",
       "      <th>FoodCourt</th>\n",
       "      <th>ShoppingMall</th>\n",
       "      <th>Spa</th>\n",
       "      <th>VRDeck</th>\n",
       "      <th>Group</th>\n",
       "      <th>Age_norm</th>\n",
       "      <th>RoomService_norm</th>\n",
       "      <th>FoodCourt_norm</th>\n",
       "      <th>ShoppingMall_norm</th>\n",
       "      <th>Spa_norm</th>\n",
       "      <th>VRDeck_norm</th>\n",
       "    </tr>\n",
       "  </thead>\n",
       "  <tbody>\n",
       "    <tr>\n",
       "      <th>0</th>\n",
       "      <td>1.0</td>\n",
       "      <td>0.0</td>\n",
       "      <td>2.0</td>\n",
       "      <td>39.0</td>\n",
       "      <td>0.0</td>\n",
       "      <td>0.0</td>\n",
       "      <td>0.0</td>\n",
       "      <td>0.0</td>\n",
       "      <td>0.0</td>\n",
       "      <td>0.0</td>\n",
       "      <td>1</td>\n",
       "      <td>0.709373</td>\n",
       "      <td>-0.340420</td>\n",
       "      <td>-0.286919</td>\n",
       "      <td>-0.290836</td>\n",
       "      <td>-0.276256</td>\n",
       "      <td>-0.268140</td>\n",
       "    </tr>\n",
       "    <tr>\n",
       "      <th>1</th>\n",
       "      <td>0.0</td>\n",
       "      <td>0.0</td>\n",
       "      <td>2.0</td>\n",
       "      <td>24.0</td>\n",
       "      <td>0.0</td>\n",
       "      <td>109.0</td>\n",
       "      <td>9.0</td>\n",
       "      <td>25.0</td>\n",
       "      <td>549.0</td>\n",
       "      <td>44.0</td>\n",
       "      <td>2</td>\n",
       "      <td>-0.336374</td>\n",
       "      <td>-0.175210</td>\n",
       "      <td>-0.281279</td>\n",
       "      <td>-0.248989</td>\n",
       "      <td>0.211620</td>\n",
       "      <td>-0.229322</td>\n",
       "    </tr>\n",
       "    <tr>\n",
       "      <th>2</th>\n",
       "      <td>1.0</td>\n",
       "      <td>0.0</td>\n",
       "      <td>2.0</td>\n",
       "      <td>58.0</td>\n",
       "      <td>1.0</td>\n",
       "      <td>43.0</td>\n",
       "      <td>3576.0</td>\n",
       "      <td>0.0</td>\n",
       "      <td>6715.0</td>\n",
       "      <td>49.0</td>\n",
       "      <td>3</td>\n",
       "      <td>2.033985</td>\n",
       "      <td>-0.275245</td>\n",
       "      <td>1.954387</td>\n",
       "      <td>-0.290836</td>\n",
       "      <td>5.691115</td>\n",
       "      <td>-0.224911</td>\n",
       "    </tr>\n",
       "  </tbody>\n",
       "</table>\n",
       "</div>"
      ],
      "text/plain": [
       "   HomePlanet  CryoSleep  Destination   Age  VIP  RoomService  FoodCourt  \\\n",
       "0         1.0        0.0          2.0  39.0  0.0          0.0        0.0   \n",
       "1         0.0        0.0          2.0  24.0  0.0        109.0        9.0   \n",
       "2         1.0        0.0          2.0  58.0  1.0         43.0     3576.0   \n",
       "\n",
       "   ShoppingMall     Spa  VRDeck  Group  Age_norm  RoomService_norm  \\\n",
       "0           0.0     0.0     0.0      1  0.709373         -0.340420   \n",
       "1          25.0   549.0    44.0      2 -0.336374         -0.175210   \n",
       "2           0.0  6715.0    49.0      3  2.033985         -0.275245   \n",
       "\n",
       "   FoodCourt_norm  ShoppingMall_norm  Spa_norm  VRDeck_norm  \n",
       "0       -0.286919          -0.290836 -0.276256    -0.268140  \n",
       "1       -0.281279          -0.248989  0.211620    -0.229322  \n",
       "2        1.954387          -0.290836  5.691115    -0.224911  "
      ]
     },
     "execution_count": 25,
     "metadata": {},
     "output_type": "execute_result"
    }
   ],
   "source": [
    "#checking train dataset\n",
    "df.head(3)"
   ]
  },
  {
   "cell_type": "code",
   "execution_count": 26,
   "id": "1de2af41",
   "metadata": {
    "ExecuteTime": {
     "end_time": "2022-09-11T22:23:56.140361Z",
     "start_time": "2022-09-11T22:23:56.117234Z"
    },
    "scrolled": true
   },
   "outputs": [
    {
     "name": "stdout",
     "output_type": "stream",
     "text": [
      "<class 'pandas.core.frame.DataFrame'>\n",
      "RangeIndex: 4277 entries, 0 to 4276\n",
      "Data columns (total 18 columns):\n",
      " #   Column             Non-Null Count  Dtype  \n",
      "---  ------             --------------  -----  \n",
      " 0   PassengerId        4277 non-null   object \n",
      " 1   HomePlanet         4277 non-null   float64\n",
      " 2   CryoSleep          4277 non-null   float64\n",
      " 3   Destination        4277 non-null   float64\n",
      " 4   Age                4277 non-null   float64\n",
      " 5   VIP                4277 non-null   float64\n",
      " 6   RoomService        4277 non-null   float64\n",
      " 7   FoodCourt          4277 non-null   float64\n",
      " 8   ShoppingMall       4277 non-null   float64\n",
      " 9   Spa                4277 non-null   float64\n",
      " 10  VRDeck             4277 non-null   float64\n",
      " 11  Group              4277 non-null   int64  \n",
      " 12  Age_norm           4277 non-null   float64\n",
      " 13  RoomService_norm   4277 non-null   float64\n",
      " 14  FoodCourt_norm     4277 non-null   float64\n",
      " 15  ShoppingMall_norm  4277 non-null   float64\n",
      " 16  Spa_norm           4277 non-null   float64\n",
      " 17  VRDeck_norm        4277 non-null   float64\n",
      "dtypes: float64(16), int64(1), object(1)\n",
      "memory usage: 601.6+ KB\n"
     ]
    }
   ],
   "source": [
    "#Checking if all columns are numerical and non nulls on test\n",
    "df_test.info()"
   ]
  },
  {
   "cell_type": "code",
   "execution_count": 27,
   "id": "35964302",
   "metadata": {
    "ExecuteTime": {
     "end_time": "2022-09-11T22:23:56.183895Z",
     "start_time": "2022-09-11T22:23:56.144655Z"
    },
    "scrolled": true
   },
   "outputs": [
    {
     "data": {
      "text/html": [
       "<div>\n",
       "<style scoped>\n",
       "    .dataframe tbody tr th:only-of-type {\n",
       "        vertical-align: middle;\n",
       "    }\n",
       "\n",
       "    .dataframe tbody tr th {\n",
       "        vertical-align: top;\n",
       "    }\n",
       "\n",
       "    .dataframe thead th {\n",
       "        text-align: right;\n",
       "    }\n",
       "</style>\n",
       "<table border=\"1\" class=\"dataframe\">\n",
       "  <thead>\n",
       "    <tr style=\"text-align: right;\">\n",
       "      <th></th>\n",
       "      <th>PassengerId</th>\n",
       "      <th>HomePlanet</th>\n",
       "      <th>CryoSleep</th>\n",
       "      <th>Destination</th>\n",
       "      <th>Age</th>\n",
       "      <th>VIP</th>\n",
       "      <th>RoomService</th>\n",
       "      <th>FoodCourt</th>\n",
       "      <th>ShoppingMall</th>\n",
       "      <th>Spa</th>\n",
       "      <th>VRDeck</th>\n",
       "      <th>Group</th>\n",
       "      <th>Age_norm</th>\n",
       "      <th>RoomService_norm</th>\n",
       "      <th>FoodCourt_norm</th>\n",
       "      <th>ShoppingMall_norm</th>\n",
       "      <th>Spa_norm</th>\n",
       "      <th>VRDeck_norm</th>\n",
       "    </tr>\n",
       "  </thead>\n",
       "  <tbody>\n",
       "    <tr>\n",
       "      <th>0</th>\n",
       "      <td>0013_01</td>\n",
       "      <td>0.0</td>\n",
       "      <td>1.0</td>\n",
       "      <td>2.0</td>\n",
       "      <td>27.0</td>\n",
       "      <td>0.0</td>\n",
       "      <td>0.0</td>\n",
       "      <td>0.0</td>\n",
       "      <td>0.0</td>\n",
       "      <td>0.0</td>\n",
       "      <td>0.0</td>\n",
       "      <td>13</td>\n",
       "      <td>-0.118309</td>\n",
       "      <td>-0.364654</td>\n",
       "      <td>-0.291306</td>\n",
       "      <td>-0.320285</td>\n",
       "      <td>-0.274065</td>\n",
       "      <td>-0.251195</td>\n",
       "    </tr>\n",
       "    <tr>\n",
       "      <th>1</th>\n",
       "      <td>0018_01</td>\n",
       "      <td>0.0</td>\n",
       "      <td>0.0</td>\n",
       "      <td>2.0</td>\n",
       "      <td>19.0</td>\n",
       "      <td>0.0</td>\n",
       "      <td>0.0</td>\n",
       "      <td>9.0</td>\n",
       "      <td>0.0</td>\n",
       "      <td>2823.0</td>\n",
       "      <td>0.0</td>\n",
       "      <td>18</td>\n",
       "      <td>-0.688479</td>\n",
       "      <td>-0.364654</td>\n",
       "      <td>-0.285350</td>\n",
       "      <td>-0.320285</td>\n",
       "      <td>2.282661</td>\n",
       "      <td>-0.251195</td>\n",
       "    </tr>\n",
       "    <tr>\n",
       "      <th>2</th>\n",
       "      <td>0019_01</td>\n",
       "      <td>1.0</td>\n",
       "      <td>1.0</td>\n",
       "      <td>0.0</td>\n",
       "      <td>31.0</td>\n",
       "      <td>0.0</td>\n",
       "      <td>0.0</td>\n",
       "      <td>0.0</td>\n",
       "      <td>0.0</td>\n",
       "      <td>0.0</td>\n",
       "      <td>0.0</td>\n",
       "      <td>19</td>\n",
       "      <td>0.166777</td>\n",
       "      <td>-0.364654</td>\n",
       "      <td>-0.291306</td>\n",
       "      <td>-0.320285</td>\n",
       "      <td>-0.274065</td>\n",
       "      <td>-0.251195</td>\n",
       "    </tr>\n",
       "  </tbody>\n",
       "</table>\n",
       "</div>"
      ],
      "text/plain": [
       "  PassengerId  HomePlanet  CryoSleep  Destination   Age  VIP  RoomService  \\\n",
       "0     0013_01         0.0        1.0          2.0  27.0  0.0          0.0   \n",
       "1     0018_01         0.0        0.0          2.0  19.0  0.0          0.0   \n",
       "2     0019_01         1.0        1.0          0.0  31.0  0.0          0.0   \n",
       "\n",
       "   FoodCourt  ShoppingMall     Spa  VRDeck  Group  Age_norm  RoomService_norm  \\\n",
       "0        0.0           0.0     0.0     0.0     13 -0.118309         -0.364654   \n",
       "1        9.0           0.0  2823.0     0.0     18 -0.688479         -0.364654   \n",
       "2        0.0           0.0     0.0     0.0     19  0.166777         -0.364654   \n",
       "\n",
       "   FoodCourt_norm  ShoppingMall_norm  Spa_norm  VRDeck_norm  \n",
       "0       -0.291306          -0.320285 -0.274065    -0.251195  \n",
       "1       -0.285350          -0.320285  2.282661    -0.251195  \n",
       "2       -0.291306          -0.320285 -0.274065    -0.251195  "
      ]
     },
     "execution_count": 27,
     "metadata": {},
     "output_type": "execute_result"
    }
   ],
   "source": [
    "#checking test dataset\n",
    "df_test.head(3)"
   ]
  },
  {
   "cell_type": "code",
   "execution_count": 28,
   "id": "1120ad85",
   "metadata": {
    "ExecuteTime": {
     "end_time": "2022-09-11T22:23:57.122440Z",
     "start_time": "2022-09-11T22:23:56.193832Z"
    }
   },
   "outputs": [
    {
     "data": {
      "text/plain": [
       "CryoSleep            0.110827\n",
       "RoomService          0.081646\n",
       "Spa                  0.078448\n",
       "Spa_norm             0.070380\n",
       "RoomService_norm     0.069861\n",
       "VRDeck_norm          0.063923\n",
       "VRDeck               0.061616\n",
       "ShoppingMall         0.057944\n",
       "ShoppingMall_norm    0.050364\n",
       "FoodCourt            0.048798\n",
       "FoodCourt_norm       0.044522\n",
       "Group                0.020567\n",
       "HomePlanet           0.015281\n",
       "Age_norm             0.012384\n",
       "Age                  0.009570\n",
       "VIP                  0.003976\n",
       "Destination          0.000373\n",
       "Name: MI Scores, dtype: float64"
      ]
     },
     "execution_count": 28,
     "metadata": {},
     "output_type": "execute_result"
    }
   ],
   "source": [
    "#using mutual info classif to check every feature importance\n",
    "mi_scores = mutual_info_classif(df, train_labels)\n",
    "mi_scores = pd.Series(mi_scores, name=\"MI Scores\", index= df.columns)\n",
    "mi_scores = mi_scores.sort_values(ascending=False)\n",
    "mi_scores"
   ]
  },
  {
   "cell_type": "code",
   "execution_count": 29,
   "id": "f778e68b",
   "metadata": {
    "ExecuteTime": {
     "end_time": "2022-09-11T22:23:57.141523Z",
     "start_time": "2022-09-11T22:23:57.126719Z"
    }
   },
   "outputs": [],
   "source": [
    "#dropping least important VIP and Destination columns\n",
    "df.drop(['VIP','Destination','Age_norm'],axis=1,inplace=True)"
   ]
  },
  {
   "cell_type": "markdown",
   "id": "467df130",
   "metadata": {},
   "source": [
    "# Modeling"
   ]
  },
  {
   "cell_type": "code",
   "execution_count": 30,
   "id": "232be629",
   "metadata": {
    "ExecuteTime": {
     "end_time": "2022-09-11T22:23:57.161393Z",
     "start_time": "2022-09-11T22:23:57.145624Z"
    }
   },
   "outputs": [],
   "source": [
    "#applying train test split\n",
    "X_train, X_test, y_train, y_test = train_test_split(df, train_labels, train_size = 0.8)"
   ]
  },
  {
   "cell_type": "code",
   "execution_count": 31,
   "id": "c6e84b6d",
   "metadata": {
    "ExecuteTime": {
     "end_time": "2022-09-11T22:24:05.370013Z",
     "start_time": "2022-09-11T22:23:57.166461Z"
    }
   },
   "outputs": [
    {
     "name": "stdout",
     "output_type": "stream",
     "text": [
      "[0]\tvalidation_0-logloss:0.68913\n",
      "[1]\tvalidation_0-logloss:0.68519\n",
      "[2]\tvalidation_0-logloss:0.68134\n",
      "[3]\tvalidation_0-logloss:0.67754\n",
      "[4]\tvalidation_0-logloss:0.67386\n",
      "[5]\tvalidation_0-logloss:0.67023\n",
      "[6]\tvalidation_0-logloss:0.66670\n",
      "[7]\tvalidation_0-logloss:0.66317\n",
      "[8]\tvalidation_0-logloss:0.65974\n",
      "[9]\tvalidation_0-logloss:0.65635\n",
      "[10]\tvalidation_0-logloss:0.65303\n",
      "[11]\tvalidation_0-logloss:0.64981\n",
      "[12]\tvalidation_0-logloss:0.64661\n",
      "[13]\tvalidation_0-logloss:0.64347\n",
      "[14]\tvalidation_0-logloss:0.64037\n",
      "[15]\tvalidation_0-logloss:0.63737\n",
      "[16]\tvalidation_0-logloss:0.63435\n",
      "[17]\tvalidation_0-logloss:0.63148\n",
      "[18]\tvalidation_0-logloss:0.62859\n",
      "[19]\tvalidation_0-logloss:0.62578\n",
      "[20]\tvalidation_0-logloss:0.62301\n",
      "[21]\tvalidation_0-logloss:0.62033\n",
      "[22]\tvalidation_0-logloss:0.61761\n",
      "[23]\tvalidation_0-logloss:0.61498\n",
      "[24]\tvalidation_0-logloss:0.61240\n",
      "[25]\tvalidation_0-logloss:0.60983\n",
      "[26]\tvalidation_0-logloss:0.60734\n",
      "[27]\tvalidation_0-logloss:0.60486\n",
      "[28]\tvalidation_0-logloss:0.60243\n",
      "[29]\tvalidation_0-logloss:0.60002\n",
      "[30]\tvalidation_0-logloss:0.59763\n",
      "[31]\tvalidation_0-logloss:0.59533\n",
      "[32]\tvalidation_0-logloss:0.59306\n",
      "[33]\tvalidation_0-logloss:0.59086\n",
      "[34]\tvalidation_0-logloss:0.58866\n",
      "[35]\tvalidation_0-logloss:0.58656\n",
      "[36]\tvalidation_0-logloss:0.58447\n",
      "[37]\tvalidation_0-logloss:0.58236\n",
      "[38]\tvalidation_0-logloss:0.58036\n",
      "[39]\tvalidation_0-logloss:0.57839\n",
      "[40]\tvalidation_0-logloss:0.57641\n",
      "[41]\tvalidation_0-logloss:0.57442\n",
      "[42]\tvalidation_0-logloss:0.57251\n",
      "[43]\tvalidation_0-logloss:0.57060\n",
      "[44]\tvalidation_0-logloss:0.56869\n",
      "[45]\tvalidation_0-logloss:0.56688\n",
      "[46]\tvalidation_0-logloss:0.56506\n",
      "[47]\tvalidation_0-logloss:0.56333\n",
      "[48]\tvalidation_0-logloss:0.56157\n",
      "[49]\tvalidation_0-logloss:0.55982\n",
      "[50]\tvalidation_0-logloss:0.55808\n",
      "[51]\tvalidation_0-logloss:0.55644\n",
      "[52]\tvalidation_0-logloss:0.55475\n",
      "[53]\tvalidation_0-logloss:0.55311\n",
      "[54]\tvalidation_0-logloss:0.55158\n",
      "[55]\tvalidation_0-logloss:0.55003\n",
      "[56]\tvalidation_0-logloss:0.54848\n",
      "[57]\tvalidation_0-logloss:0.54693\n",
      "[58]\tvalidation_0-logloss:0.54546\n",
      "[59]\tvalidation_0-logloss:0.54394\n",
      "[60]\tvalidation_0-logloss:0.54250\n",
      "[61]\tvalidation_0-logloss:0.54103\n",
      "[62]\tvalidation_0-logloss:0.53958\n",
      "[63]\tvalidation_0-logloss:0.53816\n",
      "[64]\tvalidation_0-logloss:0.53682\n",
      "[65]\tvalidation_0-logloss:0.53544\n",
      "[66]\tvalidation_0-logloss:0.53412\n",
      "[67]\tvalidation_0-logloss:0.53279\n",
      "[68]\tvalidation_0-logloss:0.53149\n",
      "[69]\tvalidation_0-logloss:0.53021\n",
      "[70]\tvalidation_0-logloss:0.52895\n",
      "[71]\tvalidation_0-logloss:0.52773\n",
      "[72]\tvalidation_0-logloss:0.52652\n",
      "[73]\tvalidation_0-logloss:0.52527\n",
      "[74]\tvalidation_0-logloss:0.52409\n",
      "[75]\tvalidation_0-logloss:0.52287\n",
      "[76]\tvalidation_0-logloss:0.52172\n",
      "[77]\tvalidation_0-logloss:0.52060\n",
      "[78]\tvalidation_0-logloss:0.51943\n",
      "[79]\tvalidation_0-logloss:0.51837\n",
      "[80]\tvalidation_0-logloss:0.51724\n",
      "[81]\tvalidation_0-logloss:0.51622\n",
      "[82]\tvalidation_0-logloss:0.51516\n",
      "[83]\tvalidation_0-logloss:0.51409\n",
      "[84]\tvalidation_0-logloss:0.51298\n",
      "[85]\tvalidation_0-logloss:0.51201\n",
      "[86]\tvalidation_0-logloss:0.51102\n",
      "[87]\tvalidation_0-logloss:0.51002\n",
      "[88]\tvalidation_0-logloss:0.50908\n",
      "[89]\tvalidation_0-logloss:0.50810\n",
      "[90]\tvalidation_0-logloss:0.50713\n",
      "[91]\tvalidation_0-logloss:0.50617\n",
      "[92]\tvalidation_0-logloss:0.50529\n",
      "[93]\tvalidation_0-logloss:0.50436\n",
      "[94]\tvalidation_0-logloss:0.50345\n",
      "[95]\tvalidation_0-logloss:0.50260\n",
      "[96]\tvalidation_0-logloss:0.50169\n",
      "[97]\tvalidation_0-logloss:0.50081\n",
      "[98]\tvalidation_0-logloss:0.50000\n",
      "[99]\tvalidation_0-logloss:0.49913\n",
      "[100]\tvalidation_0-logloss:0.49836\n",
      "[101]\tvalidation_0-logloss:0.49754\n",
      "[102]\tvalidation_0-logloss:0.49675\n",
      "[103]\tvalidation_0-logloss:0.49600\n",
      "[104]\tvalidation_0-logloss:0.49519\n",
      "[105]\tvalidation_0-logloss:0.49441\n",
      "[106]\tvalidation_0-logloss:0.49366\n",
      "[107]\tvalidation_0-logloss:0.49288\n",
      "[108]\tvalidation_0-logloss:0.49212\n",
      "[109]\tvalidation_0-logloss:0.49142\n",
      "[110]\tvalidation_0-logloss:0.49068\n",
      "[111]\tvalidation_0-logloss:0.49000\n",
      "[112]\tvalidation_0-logloss:0.48931\n",
      "[113]\tvalidation_0-logloss:0.48861\n",
      "[114]\tvalidation_0-logloss:0.48794\n",
      "[115]\tvalidation_0-logloss:0.48724\n",
      "[116]\tvalidation_0-logloss:0.48660\n",
      "[117]\tvalidation_0-logloss:0.48594\n",
      "[118]\tvalidation_0-logloss:0.48531\n",
      "[119]\tvalidation_0-logloss:0.48469\n",
      "[120]\tvalidation_0-logloss:0.48403\n",
      "[121]\tvalidation_0-logloss:0.48344\n",
      "[122]\tvalidation_0-logloss:0.48284\n",
      "[123]\tvalidation_0-logloss:0.48226\n",
      "[124]\tvalidation_0-logloss:0.48165\n",
      "[125]\tvalidation_0-logloss:0.48109\n",
      "[126]\tvalidation_0-logloss:0.48052\n",
      "[127]\tvalidation_0-logloss:0.47992\n",
      "[128]\tvalidation_0-logloss:0.47937\n",
      "[129]\tvalidation_0-logloss:0.47879\n",
      "[130]\tvalidation_0-logloss:0.47825\n",
      "[131]\tvalidation_0-logloss:0.47772\n",
      "[132]\tvalidation_0-logloss:0.47720\n",
      "[133]\tvalidation_0-logloss:0.47669\n",
      "[134]\tvalidation_0-logloss:0.47619\n",
      "[135]\tvalidation_0-logloss:0.47567\n",
      "[136]\tvalidation_0-logloss:0.47519\n",
      "[137]\tvalidation_0-logloss:0.47470\n",
      "[138]\tvalidation_0-logloss:0.47421\n",
      "[139]\tvalidation_0-logloss:0.47373\n",
      "[140]\tvalidation_0-logloss:0.47326\n",
      "[141]\tvalidation_0-logloss:0.47277\n",
      "[142]\tvalidation_0-logloss:0.47228\n",
      "[143]\tvalidation_0-logloss:0.47182\n",
      "[144]\tvalidation_0-logloss:0.47135\n",
      "[145]\tvalidation_0-logloss:0.47088\n",
      "[146]\tvalidation_0-logloss:0.47044\n",
      "[147]\tvalidation_0-logloss:0.46998\n",
      "[148]\tvalidation_0-logloss:0.46956\n",
      "[149]\tvalidation_0-logloss:0.46911\n",
      "[150]\tvalidation_0-logloss:0.46867\n",
      "[151]\tvalidation_0-logloss:0.46826\n",
      "[152]\tvalidation_0-logloss:0.46784\n",
      "[153]\tvalidation_0-logloss:0.46744\n",
      "[154]\tvalidation_0-logloss:0.46702\n",
      "[155]\tvalidation_0-logloss:0.46663\n",
      "[156]\tvalidation_0-logloss:0.46622\n",
      "[157]\tvalidation_0-logloss:0.46582\n",
      "[158]\tvalidation_0-logloss:0.46544\n",
      "[159]\tvalidation_0-logloss:0.46504\n",
      "[160]\tvalidation_0-logloss:0.46468\n",
      "[161]\tvalidation_0-logloss:0.46431\n",
      "[162]\tvalidation_0-logloss:0.46396\n",
      "[163]\tvalidation_0-logloss:0.46354\n",
      "[164]\tvalidation_0-logloss:0.46314\n",
      "[165]\tvalidation_0-logloss:0.46277\n",
      "[166]\tvalidation_0-logloss:0.46242\n",
      "[167]\tvalidation_0-logloss:0.46205\n",
      "[168]\tvalidation_0-logloss:0.46173\n",
      "[169]\tvalidation_0-logloss:0.46138\n",
      "[170]\tvalidation_0-logloss:0.46103\n",
      "[171]\tvalidation_0-logloss:0.46072\n",
      "[172]\tvalidation_0-logloss:0.46038\n",
      "[173]\tvalidation_0-logloss:0.46007\n",
      "[174]\tvalidation_0-logloss:0.45971\n",
      "[175]\tvalidation_0-logloss:0.45940\n",
      "[176]\tvalidation_0-logloss:0.45909\n",
      "[177]\tvalidation_0-logloss:0.45878\n",
      "[178]\tvalidation_0-logloss:0.45847\n",
      "[179]\tvalidation_0-logloss:0.45815\n",
      "[180]\tvalidation_0-logloss:0.45786\n",
      "[181]\tvalidation_0-logloss:0.45756\n",
      "[182]\tvalidation_0-logloss:0.45730\n",
      "[183]\tvalidation_0-logloss:0.45703\n",
      "[184]\tvalidation_0-logloss:0.45669\n",
      "[185]\tvalidation_0-logloss:0.45644\n",
      "[186]\tvalidation_0-logloss:0.45617\n",
      "[187]\tvalidation_0-logloss:0.45593\n",
      "[188]\tvalidation_0-logloss:0.45565\n",
      "[189]\tvalidation_0-logloss:0.45541\n",
      "[190]\tvalidation_0-logloss:0.45515\n",
      "[191]\tvalidation_0-logloss:0.45491\n",
      "[192]\tvalidation_0-logloss:0.45473\n",
      "[193]\tvalidation_0-logloss:0.45450\n",
      "[194]\tvalidation_0-logloss:0.45425\n",
      "[195]\tvalidation_0-logloss:0.45402\n",
      "[196]\tvalidation_0-logloss:0.45385\n",
      "[197]\tvalidation_0-logloss:0.45363\n",
      "[198]\tvalidation_0-logloss:0.45342\n",
      "[199]\tvalidation_0-logloss:0.45320\n",
      "[200]\tvalidation_0-logloss:0.45305\n",
      "[201]\tvalidation_0-logloss:0.45286\n",
      "[202]\tvalidation_0-logloss:0.45267\n",
      "[203]\tvalidation_0-logloss:0.45245\n",
      "[204]\tvalidation_0-logloss:0.45220\n",
      "[205]\tvalidation_0-logloss:0.45205\n",
      "[206]\tvalidation_0-logloss:0.45184\n",
      "[207]\tvalidation_0-logloss:0.45162\n",
      "[208]\tvalidation_0-logloss:0.45146\n",
      "[209]\tvalidation_0-logloss:0.45126\n",
      "[210]\tvalidation_0-logloss:0.45104\n",
      "[211]\tvalidation_0-logloss:0.45088\n",
      "[212]\tvalidation_0-logloss:0.45072\n",
      "[213]\tvalidation_0-logloss:0.45051\n",
      "[214]\tvalidation_0-logloss:0.45028\n",
      "[215]\tvalidation_0-logloss:0.45010\n",
      "[216]\tvalidation_0-logloss:0.44993\n",
      "[217]\tvalidation_0-logloss:0.44971\n",
      "[218]\tvalidation_0-logloss:0.44953\n",
      "[219]\tvalidation_0-logloss:0.44937\n",
      "[220]\tvalidation_0-logloss:0.44921\n",
      "[221]\tvalidation_0-logloss:0.44900\n",
      "[222]\tvalidation_0-logloss:0.44882\n",
      "[223]\tvalidation_0-logloss:0.44865\n",
      "[224]\tvalidation_0-logloss:0.44848\n",
      "[225]\tvalidation_0-logloss:0.44824\n",
      "[226]\tvalidation_0-logloss:0.44809\n",
      "[227]\tvalidation_0-logloss:0.44793\n",
      "[228]\tvalidation_0-logloss:0.44774\n",
      "[229]\tvalidation_0-logloss:0.44761\n",
      "[230]\tvalidation_0-logloss:0.44748\n",
      "[231]\tvalidation_0-logloss:0.44731\n",
      "[232]\tvalidation_0-logloss:0.44715\n",
      "[233]\tvalidation_0-logloss:0.44698\n",
      "[234]\tvalidation_0-logloss:0.44682\n",
      "[235]\tvalidation_0-logloss:0.44660\n",
      "[236]\tvalidation_0-logloss:0.44645\n",
      "[237]\tvalidation_0-logloss:0.44633\n",
      "[238]\tvalidation_0-logloss:0.44618\n",
      "[239]\tvalidation_0-logloss:0.44599\n",
      "[240]\tvalidation_0-logloss:0.44583\n",
      "[241]\tvalidation_0-logloss:0.44564\n",
      "[242]\tvalidation_0-logloss:0.44550\n",
      "[243]\tvalidation_0-logloss:0.44530\n",
      "[244]\tvalidation_0-logloss:0.44516\n",
      "[245]\tvalidation_0-logloss:0.44498\n",
      "[246]\tvalidation_0-logloss:0.44481\n",
      "[247]\tvalidation_0-logloss:0.44463\n",
      "[248]\tvalidation_0-logloss:0.44447\n",
      "[249]\tvalidation_0-logloss:0.44431\n",
      "[250]\tvalidation_0-logloss:0.44421\n",
      "[251]\tvalidation_0-logloss:0.44405\n",
      "[252]\tvalidation_0-logloss:0.44390\n",
      "[253]\tvalidation_0-logloss:0.44375\n",
      "[254]\tvalidation_0-logloss:0.44358\n",
      "[255]\tvalidation_0-logloss:0.44344\n",
      "[256]\tvalidation_0-logloss:0.44327\n",
      "[257]\tvalidation_0-logloss:0.44311\n",
      "[258]\tvalidation_0-logloss:0.44298\n",
      "[259]\tvalidation_0-logloss:0.44285\n",
      "[260]\tvalidation_0-logloss:0.44270\n",
      "[261]\tvalidation_0-logloss:0.44255\n",
      "[262]\tvalidation_0-logloss:0.44243\n",
      "[263]\tvalidation_0-logloss:0.44228\n",
      "[264]\tvalidation_0-logloss:0.44216\n",
      "[265]\tvalidation_0-logloss:0.44204\n",
      "[266]\tvalidation_0-logloss:0.44192\n",
      "[267]\tvalidation_0-logloss:0.44182\n",
      "[268]\tvalidation_0-logloss:0.44164\n",
      "[269]\tvalidation_0-logloss:0.44154\n",
      "[270]\tvalidation_0-logloss:0.44137\n",
      "[271]\tvalidation_0-logloss:0.44123\n",
      "[272]\tvalidation_0-logloss:0.44109\n",
      "[273]\tvalidation_0-logloss:0.44100\n",
      "[274]\tvalidation_0-logloss:0.44085\n",
      "[275]\tvalidation_0-logloss:0.44069\n",
      "[276]\tvalidation_0-logloss:0.44059\n",
      "[277]\tvalidation_0-logloss:0.44049\n",
      "[278]\tvalidation_0-logloss:0.44037\n",
      "[279]\tvalidation_0-logloss:0.44024\n",
      "[280]\tvalidation_0-logloss:0.44009\n",
      "[281]\tvalidation_0-logloss:0.43996\n",
      "[282]\tvalidation_0-logloss:0.43986\n",
      "[283]\tvalidation_0-logloss:0.43971\n",
      "[284]\tvalidation_0-logloss:0.43959\n",
      "[285]\tvalidation_0-logloss:0.43948\n",
      "[286]\tvalidation_0-logloss:0.43937\n",
      "[287]\tvalidation_0-logloss:0.43925\n",
      "[288]\tvalidation_0-logloss:0.43914\n",
      "[289]\tvalidation_0-logloss:0.43901\n",
      "[290]\tvalidation_0-logloss:0.43888\n",
      "[291]\tvalidation_0-logloss:0.43879\n",
      "[292]\tvalidation_0-logloss:0.43868\n",
      "[293]\tvalidation_0-logloss:0.43857\n",
      "[294]\tvalidation_0-logloss:0.43849\n",
      "[295]\tvalidation_0-logloss:0.43837\n",
      "[296]\tvalidation_0-logloss:0.43822\n",
      "[297]\tvalidation_0-logloss:0.43813\n",
      "[298]\tvalidation_0-logloss:0.43807\n",
      "[299]\tvalidation_0-logloss:0.43793\n",
      "[300]\tvalidation_0-logloss:0.43785\n",
      "[301]\tvalidation_0-logloss:0.43773\n",
      "[302]\tvalidation_0-logloss:0.43765\n",
      "[303]\tvalidation_0-logloss:0.43752\n",
      "[304]\tvalidation_0-logloss:0.43746\n",
      "[305]\tvalidation_0-logloss:0.43737\n",
      "[306]\tvalidation_0-logloss:0.43727\n",
      "[307]\tvalidation_0-logloss:0.43715\n",
      "[308]\tvalidation_0-logloss:0.43711\n",
      "[309]\tvalidation_0-logloss:0.43701\n",
      "[310]\tvalidation_0-logloss:0.43693\n",
      "[311]\tvalidation_0-logloss:0.43685\n",
      "[312]\tvalidation_0-logloss:0.43674\n",
      "[313]\tvalidation_0-logloss:0.43666\n",
      "[314]\tvalidation_0-logloss:0.43658\n",
      "[315]\tvalidation_0-logloss:0.43650\n",
      "[316]\tvalidation_0-logloss:0.43645\n",
      "[317]\tvalidation_0-logloss:0.43635\n",
      "[318]\tvalidation_0-logloss:0.43628\n",
      "[319]\tvalidation_0-logloss:0.43627\n",
      "[320]\tvalidation_0-logloss:0.43619\n",
      "[321]\tvalidation_0-logloss:0.43608\n",
      "[322]\tvalidation_0-logloss:0.43601\n",
      "[323]\tvalidation_0-logloss:0.43594\n",
      "[324]\tvalidation_0-logloss:0.43587\n",
      "[325]\tvalidation_0-logloss:0.43579\n",
      "[326]\tvalidation_0-logloss:0.43568\n",
      "[327]\tvalidation_0-logloss:0.43560\n",
      "[328]\tvalidation_0-logloss:0.43555\n",
      "[329]\tvalidation_0-logloss:0.43550\n",
      "[330]\tvalidation_0-logloss:0.43547\n",
      "[331]\tvalidation_0-logloss:0.43543\n",
      "[332]\tvalidation_0-logloss:0.43536\n",
      "[333]\tvalidation_0-logloss:0.43531\n",
      "[334]\tvalidation_0-logloss:0.43525\n",
      "[335]\tvalidation_0-logloss:0.43519\n",
      "[336]\tvalidation_0-logloss:0.43515\n",
      "[337]\tvalidation_0-logloss:0.43510\n",
      "[338]\tvalidation_0-logloss:0.43505\n",
      "[339]\tvalidation_0-logloss:0.43503\n",
      "[340]\tvalidation_0-logloss:0.43500\n",
      "[341]\tvalidation_0-logloss:0.43493\n",
      "[342]\tvalidation_0-logloss:0.43488\n",
      "[343]\tvalidation_0-logloss:0.43484\n",
      "[344]\tvalidation_0-logloss:0.43477\n",
      "[345]\tvalidation_0-logloss:0.43475\n",
      "[346]\tvalidation_0-logloss:0.43473\n",
      "[347]\tvalidation_0-logloss:0.43468\n",
      "[348]\tvalidation_0-logloss:0.43466\n",
      "[349]\tvalidation_0-logloss:0.43462\n",
      "[350]\tvalidation_0-logloss:0.43457\n",
      "[351]\tvalidation_0-logloss:0.43455\n",
      "[352]\tvalidation_0-logloss:0.43452\n",
      "[353]\tvalidation_0-logloss:0.43450\n",
      "[354]\tvalidation_0-logloss:0.43449\n",
      "[355]\tvalidation_0-logloss:0.43446\n",
      "[356]\tvalidation_0-logloss:0.43443\n",
      "[357]\tvalidation_0-logloss:0.43441\n",
      "[358]\tvalidation_0-logloss:0.43437\n",
      "[359]\tvalidation_0-logloss:0.43433\n",
      "[360]\tvalidation_0-logloss:0.43433\n",
      "[361]\tvalidation_0-logloss:0.43433\n",
      "[362]\tvalidation_0-logloss:0.43430\n",
      "[363]\tvalidation_0-logloss:0.43427\n",
      "[364]\tvalidation_0-logloss:0.43424\n",
      "[365]\tvalidation_0-logloss:0.43423\n",
      "[366]\tvalidation_0-logloss:0.43420\n",
      "[367]\tvalidation_0-logloss:0.43419\n",
      "[368]\tvalidation_0-logloss:0.43417\n",
      "[369]\tvalidation_0-logloss:0.43415\n",
      "[370]\tvalidation_0-logloss:0.43408\n",
      "[371]\tvalidation_0-logloss:0.43407\n",
      "[372]\tvalidation_0-logloss:0.43405\n",
      "[373]\tvalidation_0-logloss:0.43403\n",
      "[374]\tvalidation_0-logloss:0.43401\n",
      "[375]\tvalidation_0-logloss:0.43401\n",
      "[376]\tvalidation_0-logloss:0.43400\n",
      "[377]\tvalidation_0-logloss:0.43399\n",
      "[378]\tvalidation_0-logloss:0.43397\n",
      "[379]\tvalidation_0-logloss:0.43396\n",
      "[380]\tvalidation_0-logloss:0.43395\n",
      "[381]\tvalidation_0-logloss:0.43391\n",
      "[382]\tvalidation_0-logloss:0.43382\n",
      "[383]\tvalidation_0-logloss:0.43380\n",
      "[384]\tvalidation_0-logloss:0.43376\n",
      "[385]\tvalidation_0-logloss:0.43376\n",
      "[386]\tvalidation_0-logloss:0.43372\n",
      "[387]\tvalidation_0-logloss:0.43368\n",
      "[388]\tvalidation_0-logloss:0.43364\n",
      "[389]\tvalidation_0-logloss:0.43366\n",
      "[390]\tvalidation_0-logloss:0.43361\n",
      "[391]\tvalidation_0-logloss:0.43356\n",
      "[392]\tvalidation_0-logloss:0.43352\n",
      "[393]\tvalidation_0-logloss:0.43350\n",
      "[394]\tvalidation_0-logloss:0.43349\n",
      "[395]\tvalidation_0-logloss:0.43351\n",
      "[396]\tvalidation_0-logloss:0.43346\n",
      "[397]\tvalidation_0-logloss:0.43342\n",
      "[398]\tvalidation_0-logloss:0.43333\n",
      "[399]\tvalidation_0-logloss:0.43336\n",
      "[400]\tvalidation_0-logloss:0.43336\n",
      "[401]\tvalidation_0-logloss:0.43331\n",
      "[402]\tvalidation_0-logloss:0.43328\n",
      "[403]\tvalidation_0-logloss:0.43328\n",
      "[404]\tvalidation_0-logloss:0.43327\n",
      "[405]\tvalidation_0-logloss:0.43325\n",
      "[406]\tvalidation_0-logloss:0.43325\n",
      "[407]\tvalidation_0-logloss:0.43322\n",
      "[408]\tvalidation_0-logloss:0.43317\n",
      "[409]\tvalidation_0-logloss:0.43320\n",
      "[410]\tvalidation_0-logloss:0.43318\n",
      "[411]\tvalidation_0-logloss:0.43317\n",
      "[412]\tvalidation_0-logloss:0.43317\n",
      "[413]\tvalidation_0-logloss:0.43312\n",
      "[414]\tvalidation_0-logloss:0.43307\n",
      "[415]\tvalidation_0-logloss:0.43307\n",
      "[416]\tvalidation_0-logloss:0.43306\n",
      "[417]\tvalidation_0-logloss:0.43301\n",
      "[418]\tvalidation_0-logloss:0.43300\n",
      "[419]\tvalidation_0-logloss:0.43300\n",
      "[420]\tvalidation_0-logloss:0.43296\n",
      "[421]\tvalidation_0-logloss:0.43297\n",
      "[422]\tvalidation_0-logloss:0.43296\n",
      "[423]\tvalidation_0-logloss:0.43295\n",
      "[424]\tvalidation_0-logloss:0.43294\n",
      "[425]\tvalidation_0-logloss:0.43293\n",
      "[426]\tvalidation_0-logloss:0.43292\n",
      "[427]\tvalidation_0-logloss:0.43289\n",
      "[428]\tvalidation_0-logloss:0.43286\n",
      "[429]\tvalidation_0-logloss:0.43287\n",
      "[430]\tvalidation_0-logloss:0.43288\n",
      "[431]\tvalidation_0-logloss:0.43288\n",
      "[432]\tvalidation_0-logloss:0.43285\n",
      "[433]\tvalidation_0-logloss:0.43283\n",
      "[434]\tvalidation_0-logloss:0.43284\n",
      "[435]\tvalidation_0-logloss:0.43282\n",
      "[436]\tvalidation_0-logloss:0.43279\n",
      "[437]\tvalidation_0-logloss:0.43278\n",
      "[438]\tvalidation_0-logloss:0.43276\n",
      "[439]\tvalidation_0-logloss:0.43274\n",
      "[440]\tvalidation_0-logloss:0.43274\n",
      "[441]\tvalidation_0-logloss:0.43274\n",
      "[442]\tvalidation_0-logloss:0.43271\n",
      "[443]\tvalidation_0-logloss:0.43268\n",
      "[444]\tvalidation_0-logloss:0.43266\n",
      "[445]\tvalidation_0-logloss:0.43264\n",
      "[446]\tvalidation_0-logloss:0.43264\n",
      "[447]\tvalidation_0-logloss:0.43261\n",
      "[448]\tvalidation_0-logloss:0.43258\n",
      "[449]\tvalidation_0-logloss:0.43260\n",
      "[450]\tvalidation_0-logloss:0.43259\n",
      "[451]\tvalidation_0-logloss:0.43255\n",
      "[452]\tvalidation_0-logloss:0.43255\n",
      "[453]\tvalidation_0-logloss:0.43255\n",
      "[454]\tvalidation_0-logloss:0.43253\n",
      "[455]\tvalidation_0-logloss:0.43251\n",
      "[456]\tvalidation_0-logloss:0.43251\n",
      "[457]\tvalidation_0-logloss:0.43250\n",
      "[458]\tvalidation_0-logloss:0.43250\n",
      "[459]\tvalidation_0-logloss:0.43246\n",
      "[460]\tvalidation_0-logloss:0.43244\n",
      "[461]\tvalidation_0-logloss:0.43245\n",
      "[462]\tvalidation_0-logloss:0.43244\n",
      "[463]\tvalidation_0-logloss:0.43244\n",
      "[464]\tvalidation_0-logloss:0.43240\n",
      "[465]\tvalidation_0-logloss:0.43237\n",
      "[466]\tvalidation_0-logloss:0.43235\n",
      "[467]\tvalidation_0-logloss:0.43235\n",
      "[468]\tvalidation_0-logloss:0.43234\n",
      "[469]\tvalidation_0-logloss:0.43234\n",
      "[470]\tvalidation_0-logloss:0.43232\n",
      "[471]\tvalidation_0-logloss:0.43230\n",
      "[472]\tvalidation_0-logloss:0.43229\n",
      "[473]\tvalidation_0-logloss:0.43228\n",
      "[474]\tvalidation_0-logloss:0.43227\n",
      "[475]\tvalidation_0-logloss:0.43225\n",
      "[476]\tvalidation_0-logloss:0.43222\n",
      "[477]\tvalidation_0-logloss:0.43221\n",
      "[478]\tvalidation_0-logloss:0.43222\n",
      "[479]\tvalidation_0-logloss:0.43220\n",
      "[480]\tvalidation_0-logloss:0.43219\n",
      "[481]\tvalidation_0-logloss:0.43220\n",
      "[482]\tvalidation_0-logloss:0.43213\n",
      "[483]\tvalidation_0-logloss:0.43213\n",
      "[484]\tvalidation_0-logloss:0.43211\n",
      "[485]\tvalidation_0-logloss:0.43213\n",
      "[486]\tvalidation_0-logloss:0.43213\n",
      "[487]\tvalidation_0-logloss:0.43213\n",
      "[488]\tvalidation_0-logloss:0.43212\n",
      "[489]\tvalidation_0-logloss:0.43211\n",
      "[490]\tvalidation_0-logloss:0.43209\n",
      "[491]\tvalidation_0-logloss:0.43209\n",
      "[492]\tvalidation_0-logloss:0.43207\n",
      "[493]\tvalidation_0-logloss:0.43208\n",
      "[494]\tvalidation_0-logloss:0.43207\n",
      "[495]\tvalidation_0-logloss:0.43205\n",
      "[496]\tvalidation_0-logloss:0.43205\n",
      "[497]\tvalidation_0-logloss:0.43203\n",
      "[498]\tvalidation_0-logloss:0.43200\n",
      "[499]\tvalidation_0-logloss:0.43202\n",
      "[500]\tvalidation_0-logloss:0.43202\n",
      "[501]\tvalidation_0-logloss:0.43204\n",
      "[502]\tvalidation_0-logloss:0.43205\n",
      "[503]\tvalidation_0-logloss:0.43202\n",
      "[504]\tvalidation_0-logloss:0.43202\n",
      "[505]\tvalidation_0-logloss:0.43203\n",
      "[506]\tvalidation_0-logloss:0.43200\n",
      "[507]\tvalidation_0-logloss:0.43200\n",
      "[508]\tvalidation_0-logloss:0.43202\n",
      "[509]\tvalidation_0-logloss:0.43201\n",
      "[510]\tvalidation_0-logloss:0.43198\n",
      "[511]\tvalidation_0-logloss:0.43200\n",
      "[512]\tvalidation_0-logloss:0.43200\n",
      "[513]\tvalidation_0-logloss:0.43199\n",
      "[514]\tvalidation_0-logloss:0.43199\n",
      "[515]\tvalidation_0-logloss:0.43199\n",
      "[516]\tvalidation_0-logloss:0.43198\n",
      "[517]\tvalidation_0-logloss:0.43198\n",
      "[518]\tvalidation_0-logloss:0.43198\n",
      "[519]\tvalidation_0-logloss:0.43196\n",
      "[520]\tvalidation_0-logloss:0.43196\n",
      "[521]\tvalidation_0-logloss:0.43194\n",
      "[522]\tvalidation_0-logloss:0.43194\n",
      "[523]\tvalidation_0-logloss:0.43192\n",
      "[524]\tvalidation_0-logloss:0.43192\n",
      "[525]\tvalidation_0-logloss:0.43194\n",
      "[526]\tvalidation_0-logloss:0.43196\n",
      "[527]\tvalidation_0-logloss:0.43195\n",
      "[528]\tvalidation_0-logloss:0.43195\n",
      "[529]\tvalidation_0-logloss:0.43192\n",
      "[530]\tvalidation_0-logloss:0.43192\n",
      "[531]\tvalidation_0-logloss:0.43191\n",
      "[532]\tvalidation_0-logloss:0.43190\n",
      "[533]\tvalidation_0-logloss:0.43192\n",
      "[534]\tvalidation_0-logloss:0.43192\n",
      "[535]\tvalidation_0-logloss:0.43190\n",
      "[536]\tvalidation_0-logloss:0.43190\n",
      "[537]\tvalidation_0-logloss:0.43187\n",
      "[538]\tvalidation_0-logloss:0.43186\n",
      "[539]\tvalidation_0-logloss:0.43187\n",
      "[540]\tvalidation_0-logloss:0.43188\n",
      "[541]\tvalidation_0-logloss:0.43189\n",
      "[542]\tvalidation_0-logloss:0.43190\n",
      "[543]\tvalidation_0-logloss:0.43193\n",
      "[544]\tvalidation_0-logloss:0.43192\n",
      "[545]\tvalidation_0-logloss:0.43193\n",
      "[546]\tvalidation_0-logloss:0.43192\n",
      "[547]\tvalidation_0-logloss:0.43192\n",
      "[548]\tvalidation_0-logloss:0.43193\n",
      "[549]\tvalidation_0-logloss:0.43191\n",
      "[550]\tvalidation_0-logloss:0.43189\n",
      "[551]\tvalidation_0-logloss:0.43190\n",
      "[552]\tvalidation_0-logloss:0.43192\n",
      "[553]\tvalidation_0-logloss:0.43194\n",
      "[554]\tvalidation_0-logloss:0.43193\n",
      "[555]\tvalidation_0-logloss:0.43193\n",
      "[556]\tvalidation_0-logloss:0.43194\n",
      "[557]\tvalidation_0-logloss:0.43193\n",
      "[558]\tvalidation_0-logloss:0.43191\n",
      "[559]\tvalidation_0-logloss:0.43189\n",
      "[560]\tvalidation_0-logloss:0.43190\n",
      "[561]\tvalidation_0-logloss:0.43192\n",
      "[562]\tvalidation_0-logloss:0.43191\n"
     ]
    },
    {
     "data": {
      "text/html": [
       "<style>#sk-container-id-1 {color: black;background-color: white;}#sk-container-id-1 pre{padding: 0;}#sk-container-id-1 div.sk-toggleable {background-color: white;}#sk-container-id-1 label.sk-toggleable__label {cursor: pointer;display: block;width: 100%;margin-bottom: 0;padding: 0.3em;box-sizing: border-box;text-align: center;}#sk-container-id-1 label.sk-toggleable__label-arrow:before {content: \"▸\";float: left;margin-right: 0.25em;color: #696969;}#sk-container-id-1 label.sk-toggleable__label-arrow:hover:before {color: black;}#sk-container-id-1 div.sk-estimator:hover label.sk-toggleable__label-arrow:before {color: black;}#sk-container-id-1 div.sk-toggleable__content {max-height: 0;max-width: 0;overflow: hidden;text-align: left;background-color: #f0f8ff;}#sk-container-id-1 div.sk-toggleable__content pre {margin: 0.2em;color: black;border-radius: 0.25em;background-color: #f0f8ff;}#sk-container-id-1 input.sk-toggleable__control:checked~div.sk-toggleable__content {max-height: 200px;max-width: 100%;overflow: auto;}#sk-container-id-1 input.sk-toggleable__control:checked~label.sk-toggleable__label-arrow:before {content: \"▾\";}#sk-container-id-1 div.sk-estimator input.sk-toggleable__control:checked~label.sk-toggleable__label {background-color: #d4ebff;}#sk-container-id-1 div.sk-label input.sk-toggleable__control:checked~label.sk-toggleable__label {background-color: #d4ebff;}#sk-container-id-1 input.sk-hidden--visually {border: 0;clip: rect(1px 1px 1px 1px);clip: rect(1px, 1px, 1px, 1px);height: 1px;margin: -1px;overflow: hidden;padding: 0;position: absolute;width: 1px;}#sk-container-id-1 div.sk-estimator {font-family: monospace;background-color: #f0f8ff;border: 1px dotted black;border-radius: 0.25em;box-sizing: border-box;margin-bottom: 0.5em;}#sk-container-id-1 div.sk-estimator:hover {background-color: #d4ebff;}#sk-container-id-1 div.sk-parallel-item::after {content: \"\";width: 100%;border-bottom: 1px solid gray;flex-grow: 1;}#sk-container-id-1 div.sk-label:hover label.sk-toggleable__label {background-color: #d4ebff;}#sk-container-id-1 div.sk-serial::before {content: \"\";position: absolute;border-left: 1px solid gray;box-sizing: border-box;top: 0;bottom: 0;left: 50%;z-index: 0;}#sk-container-id-1 div.sk-serial {display: flex;flex-direction: column;align-items: center;background-color: white;padding-right: 0.2em;padding-left: 0.2em;position: relative;}#sk-container-id-1 div.sk-item {position: relative;z-index: 1;}#sk-container-id-1 div.sk-parallel {display: flex;align-items: stretch;justify-content: center;background-color: white;position: relative;}#sk-container-id-1 div.sk-item::before, #sk-container-id-1 div.sk-parallel-item::before {content: \"\";position: absolute;border-left: 1px solid gray;box-sizing: border-box;top: 0;bottom: 0;left: 50%;z-index: -1;}#sk-container-id-1 div.sk-parallel-item {display: flex;flex-direction: column;z-index: 1;position: relative;background-color: white;}#sk-container-id-1 div.sk-parallel-item:first-child::after {align-self: flex-end;width: 50%;}#sk-container-id-1 div.sk-parallel-item:last-child::after {align-self: flex-start;width: 50%;}#sk-container-id-1 div.sk-parallel-item:only-child::after {width: 0;}#sk-container-id-1 div.sk-dashed-wrapped {border: 1px dashed gray;margin: 0 0.4em 0.5em 0.4em;box-sizing: border-box;padding-bottom: 0.4em;background-color: white;}#sk-container-id-1 div.sk-label label {font-family: monospace;font-weight: bold;display: inline-block;line-height: 1.2em;}#sk-container-id-1 div.sk-label-container {text-align: center;}#sk-container-id-1 div.sk-container {/* jupyter's `normalize.less` sets `[hidden] { display: none; }` but bootstrap.min.css set `[hidden] { display: none !important; }` so we also need the `!important` here to be able to override the default hidden behavior on the sphinx rendered scikit-learn.org. See: https://github.com/scikit-learn/scikit-learn/issues/21755 */display: inline-block !important;position: relative;}#sk-container-id-1 div.sk-text-repr-fallback {display: none;}</style><div id=\"sk-container-id-1\" class=\"sk-top-container\"><div class=\"sk-text-repr-fallback\"><pre>XGBClassifier(base_score=0.5, booster=&#x27;gbtree&#x27;, callbacks=None,\n",
       "              colsample_bylevel=1, colsample_bynode=1, colsample_bytree=1,\n",
       "              early_stopping_rounds=25, enable_categorical=False,\n",
       "              eval_metric=None, gamma=0, gpu_id=-1, grow_policy=&#x27;depthwise&#x27;,\n",
       "              importance_type=None, interaction_constraints=&#x27;&#x27;,\n",
       "              learning_rate=0.01, max_bin=256, max_cat_to_onehot=4,\n",
       "              max_delta_step=0, max_depth=6, max_leaves=0, min_child_weight=1,\n",
       "              missing=nan, monotone_constraints=&#x27;()&#x27;, n_estimators=1000,\n",
       "              n_jobs=0, num_parallel_tree=1, predictor=&#x27;auto&#x27;, random_state=0,\n",
       "              reg_alpha=0, reg_lambda=1, ...)</pre><b>In a Jupyter environment, please rerun this cell to show the HTML representation or trust the notebook. <br />On GitHub, the HTML representation is unable to render, please try loading this page with nbviewer.org.</b></div><div class=\"sk-container\" hidden><div class=\"sk-item\"><div class=\"sk-estimator sk-toggleable\"><input class=\"sk-toggleable__control sk-hidden--visually\" id=\"sk-estimator-id-1\" type=\"checkbox\" checked><label for=\"sk-estimator-id-1\" class=\"sk-toggleable__label sk-toggleable__label-arrow\">XGBClassifier</label><div class=\"sk-toggleable__content\"><pre>XGBClassifier(base_score=0.5, booster=&#x27;gbtree&#x27;, callbacks=None,\n",
       "              colsample_bylevel=1, colsample_bynode=1, colsample_bytree=1,\n",
       "              early_stopping_rounds=25, enable_categorical=False,\n",
       "              eval_metric=None, gamma=0, gpu_id=-1, grow_policy=&#x27;depthwise&#x27;,\n",
       "              importance_type=None, interaction_constraints=&#x27;&#x27;,\n",
       "              learning_rate=0.01, max_bin=256, max_cat_to_onehot=4,\n",
       "              max_delta_step=0, max_depth=6, max_leaves=0, min_child_weight=1,\n",
       "              missing=nan, monotone_constraints=&#x27;()&#x27;, n_estimators=1000,\n",
       "              n_jobs=0, num_parallel_tree=1, predictor=&#x27;auto&#x27;, random_state=0,\n",
       "              reg_alpha=0, reg_lambda=1, ...)</pre></div></div></div></div></div>"
      ],
      "text/plain": [
       "XGBClassifier(base_score=0.5, booster='gbtree', callbacks=None,\n",
       "              colsample_bylevel=1, colsample_bynode=1, colsample_bytree=1,\n",
       "              early_stopping_rounds=25, enable_categorical=False,\n",
       "              eval_metric=None, gamma=0, gpu_id=-1, grow_policy='depthwise',\n",
       "              importance_type=None, interaction_constraints='',\n",
       "              learning_rate=0.01, max_bin=256, max_cat_to_onehot=4,\n",
       "              max_delta_step=0, max_depth=6, max_leaves=0, min_child_weight=1,\n",
       "              missing=nan, monotone_constraints='()', n_estimators=1000,\n",
       "              n_jobs=0, num_parallel_tree=1, predictor='auto', random_state=0,\n",
       "              reg_alpha=0, reg_lambda=1, ...)"
      ]
     },
     "execution_count": 31,
     "metadata": {},
     "output_type": "execute_result"
    }
   ],
   "source": [
    "#Applying Extreme Gradient Boosting algorithm \n",
    "clf = XGBClassifier(n_estimators=1000, learning_rate=0.01, early_stopping_rounds=25, objective=\"binary:logistic\")\n",
    "clf.fit(X_train, y_train, eval_set=[(X_test, y_test)])\n"
   ]
  },
  {
   "cell_type": "code",
   "execution_count": 32,
   "id": "a30ffbf4",
   "metadata": {
    "ExecuteTime": {
     "end_time": "2022-09-11T22:24:05.424409Z",
     "start_time": "2022-09-11T22:24:05.374128Z"
    },
    "scrolled": true
   },
   "outputs": [],
   "source": [
    "#Finding predictions\n",
    "preds = [x == 1 for x in clf.predict(df_test[df.columns])]"
   ]
  },
  {
   "cell_type": "code",
   "execution_count": 33,
   "id": "45722f04",
   "metadata": {
    "ExecuteTime": {
     "end_time": "2022-09-11T22:24:05.436220Z",
     "start_time": "2022-09-11T22:24:05.427561Z"
    }
   },
   "outputs": [],
   "source": [
    "#Creating Transported submission column\n",
    "df_test['Transported']=preds"
   ]
  },
  {
   "cell_type": "code",
   "execution_count": 34,
   "id": "78ee052a",
   "metadata": {
    "ExecuteTime": {
     "end_time": "2022-09-11T22:24:05.446513Z",
     "start_time": "2022-09-11T22:24:05.439524Z"
    }
   },
   "outputs": [],
   "source": [
    "# Creating submission dataframe\n",
    "submission = pd.DataFrame(data=df_test,columns=['PassengerId','Transported'])"
   ]
  },
  {
   "cell_type": "code",
   "execution_count": 35,
   "id": "56d16b38",
   "metadata": {
    "ExecuteTime": {
     "end_time": "2022-09-11T22:24:05.466600Z",
     "start_time": "2022-09-11T22:24:05.450610Z"
    },
    "scrolled": false
   },
   "outputs": [
    {
     "data": {
      "text/html": [
       "<div>\n",
       "<style scoped>\n",
       "    .dataframe tbody tr th:only-of-type {\n",
       "        vertical-align: middle;\n",
       "    }\n",
       "\n",
       "    .dataframe tbody tr th {\n",
       "        vertical-align: top;\n",
       "    }\n",
       "\n",
       "    .dataframe thead th {\n",
       "        text-align: right;\n",
       "    }\n",
       "</style>\n",
       "<table border=\"1\" class=\"dataframe\">\n",
       "  <thead>\n",
       "    <tr style=\"text-align: right;\">\n",
       "      <th></th>\n",
       "      <th>PassengerId</th>\n",
       "      <th>Transported</th>\n",
       "    </tr>\n",
       "  </thead>\n",
       "  <tbody>\n",
       "    <tr>\n",
       "      <th>0</th>\n",
       "      <td>0013_01</td>\n",
       "      <td>False</td>\n",
       "    </tr>\n",
       "    <tr>\n",
       "      <th>1</th>\n",
       "      <td>0018_01</td>\n",
       "      <td>False</td>\n",
       "    </tr>\n",
       "    <tr>\n",
       "      <th>2</th>\n",
       "      <td>0019_01</td>\n",
       "      <td>True</td>\n",
       "    </tr>\n",
       "    <tr>\n",
       "      <th>3</th>\n",
       "      <td>0021_01</td>\n",
       "      <td>True</td>\n",
       "    </tr>\n",
       "    <tr>\n",
       "      <th>4</th>\n",
       "      <td>0023_01</td>\n",
       "      <td>True</td>\n",
       "    </tr>\n",
       "  </tbody>\n",
       "</table>\n",
       "</div>"
      ],
      "text/plain": [
       "  PassengerId  Transported\n",
       "0     0013_01        False\n",
       "1     0018_01        False\n",
       "2     0019_01         True\n",
       "3     0021_01         True\n",
       "4     0023_01         True"
      ]
     },
     "execution_count": 35,
     "metadata": {},
     "output_type": "execute_result"
    }
   ],
   "source": [
    "#checking submission dataframe\n",
    "submission.head()"
   ]
  },
  {
   "cell_type": "code",
   "execution_count": 36,
   "id": "2614015f",
   "metadata": {
    "ExecuteTime": {
     "end_time": "2022-09-11T22:24:05.492646Z",
     "start_time": "2022-09-11T22:24:05.470700Z"
    }
   },
   "outputs": [],
   "source": [
    "# Deploying it\n",
    "submission.to_csv('data/submission.csv',index = False)"
   ]
  }
 ],
 "metadata": {
  "kernelspec": {
   "display_name": "pycaret_july_2022",
   "language": "python",
   "name": "yourenvname"
  },
  "language_info": {
   "codemirror_mode": {
    "name": "ipython",
    "version": 3
   },
   "file_extension": ".py",
   "mimetype": "text/x-python",
   "name": "python",
   "nbconvert_exporter": "python",
   "pygments_lexer": "ipython3",
   "version": "3.9.7"
  },
  "toc": {
   "base_numbering": 1,
   "nav_menu": {},
   "number_sections": true,
   "sideBar": true,
   "skip_h1_title": false,
   "title_cell": "Table of Contents",
   "title_sidebar": "Contents",
   "toc_cell": false,
   "toc_position": {},
   "toc_section_display": true,
   "toc_window_display": false
  }
 },
 "nbformat": 4,
 "nbformat_minor": 5
}
